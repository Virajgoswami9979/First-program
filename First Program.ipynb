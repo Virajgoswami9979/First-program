{
 "cells": [
  {
   "cell_type": "code",
   "execution_count": 1,
   "id": "2f57a814",
   "metadata": {},
   "outputs": [
    {
     "name": "stdout",
     "output_type": "stream",
     "text": [
      "Hello World, This is VIRAJ\n"
     ]
    }
   ],
   "source": [
    "print(\"Hello World, This is VIRAJ\")"
   ]
  },
  {
   "cell_type": "code",
   "execution_count": null,
   "id": "80c24c65",
   "metadata": {},
   "outputs": [],
   "source": []
  }
 ],
 "metadata": {
  "kernelspec": {
   "display_name": "Python 3 (ipykernel)",
   "language": "python",
   "name": "python3"
  },
  "language_info": {
   "codemirror_mode": {
    "name": "ipython",
    "version": 3
   },
   "file_extension": ".py",
   "mimetype": "text/x-python",
   "name": "python",
   "nbconvert_exporter": "python",
   "pygments_lexer": "ipython3",
   "version": "3.11.5"
  }
 },
 "nbformat": 4,
 "nbformat_minor": 5
}
